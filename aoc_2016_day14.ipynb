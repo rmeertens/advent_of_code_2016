{
 "cells": [
  {
   "cell_type": "code",
   "execution_count": 2,
   "metadata": {},
   "outputs": [
    {
     "name": "stdout",
     "output_type": "stream",
     "text": [
      "Part 2 22423\n"
     ]
    }
   ],
   "source": [
    "import hashlib\n",
    "import functools\n",
    "\n",
    "input_str = \"zpqevtbw\"\n",
    "index = 0\n",
    "\n",
    "@functools.lru_cache(maxsize=100000)\n",
    "def get_hash_index(index, stretch_hash): \n",
    "    s = input_str+str(index)\n",
    "    result = hashlib.md5(s.encode())\n",
    "    \n",
    "    if stretch_hash: \n",
    "        for _ in range(2016): \n",
    "            result = hashlib.md5(result.hexdigest().encode())\n",
    "    return result.hexdigest()\n",
    "\n",
    "\n",
    "def get_tripples(string): \n",
    "    triples = list()\n",
    "    for i in range(len(string)-2): \n",
    "        if string[i] == string[i+1] and string[i] == string[i+2]: \n",
    "            triples.append(string[i])\n",
    "            return [string[i]]\n",
    "    return []\n",
    "\n",
    "num_acceptable = 0\n",
    "\n",
    "stretch_hash = True\n",
    "while True: \n",
    "    hashh = get_hash_index(index, stretch_hash)\n",
    "    triples = get_tripples(hashh)\n",
    "    \n",
    "    for char in triples: \n",
    "        tofind = char+char+char+char+char\n",
    "        found = False\n",
    "        for i in range(1, 1001): \n",
    "            if tofind in get_hash_index(index+i, stretch_hash): \n",
    "                num_acceptable += 1\n",
    "                found = True\n",
    "                break\n",
    "        if found: \n",
    "            break\n",
    "    if num_acceptable >= 64: \n",
    "        break\n",
    "        \n",
    "    index += 1\n",
    "    \n",
    "if stretch_hash:     \n",
    "    print('Part 2', index)\n",
    "else:\n",
    "    print('Part 1', index)"
   ]
  },
  {
   "cell_type": "code",
   "execution_count": null,
   "metadata": {},
   "outputs": [],
   "source": []
  },
  {
   "cell_type": "code",
   "execution_count": null,
   "metadata": {},
   "outputs": [],
   "source": []
  },
  {
   "cell_type": "code",
   "execution_count": null,
   "metadata": {},
   "outputs": [],
   "source": []
  }
 ],
 "metadata": {
  "interpreter": {
   "hash": "82ac49797f4e8ce2a5f66bfd8892a888c13cb1eb76434ab59b45c9d746585e95"
  },
  "kernelspec": {
   "display_name": "Python 3 (ipykernel)",
   "language": "python",
   "name": "python3"
  },
  "language_info": {
   "codemirror_mode": {
    "name": "ipython",
    "version": 3
   },
   "file_extension": ".py",
   "mimetype": "text/x-python",
   "name": "python",
   "nbconvert_exporter": "python",
   "pygments_lexer": "ipython3",
   "version": "3.9.7"
  }
 },
 "nbformat": 4,
 "nbformat_minor": 2
}
