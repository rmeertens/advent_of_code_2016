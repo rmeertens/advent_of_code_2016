{
 "cells": [
  {
   "cell_type": "code",
   "execution_count": 1,
   "metadata": {},
   "outputs": [
    {
     "name": "stdout",
     "output_type": "stream",
     "text": [
      "Part 1 RLDUDRDDRR\n",
      "Part 2 590\n"
     ]
    }
   ],
   "source": [
    "import hashlib\n",
    "import heapq\n",
    "\n",
    "def get_neighbours(position, path_so_far, passcode): \n",
    "    md5hash = hashlib.md5((passcode + path_so_far).encode())\n",
    "    up, down, left, right, *_ = md5hash.hexdigest()\n",
    "    \n",
    "    can_reach = list()\n",
    "    x, y = position\n",
    "    for hashcode, dirs, dx, dy in [(left, \"L\", -1, 0), (right, \"R\", 1, 0), (up, \"U\", 0, -1), (down, \"D\", 0, 1)]: \n",
    "        if hashcode in \"bcdef\": \n",
    "            nx, ny = x + dx, y + dy\n",
    "            if 0 <= nx < 4 and 0 <= ny < 4: \n",
    "                yield dirs, nx, ny\n",
    "    return can_reach\n",
    "\n",
    "\n",
    "def find_path(start, passcode, return_first = True): \n",
    "    MAX_SIZE = 1000000\n",
    "    to_expand = []\n",
    "    \n",
    "    heapq.heappush(to_expand, (MAX_SIZE, start, \"\"))\n",
    "    \n",
    "    max_found = \"\"\n",
    "    while to_expand: \n",
    "        heapthing, position, so_far = to_expand.pop(0)\n",
    "        \n",
    "#         print(position, so_far)\n",
    "        if position == (3,3): \n",
    "            if return_first: \n",
    "                return so_far\n",
    "            else: \n",
    "                if len(so_far) > len(max_found):\n",
    "                    max_found = so_far\n",
    "            continue\n",
    "    \n",
    "        for dirs, nx, ny in get_neighbours(position, so_far, passcode): \n",
    "            new_path = so_far + dirs\n",
    "            to_expand.append((heapthing-1, (nx, ny), new_path))\n",
    "    return max_found\n",
    "\n",
    "# find_path((0,0), \"ioramepc\")\n",
    "            \n",
    "# [a for a in get_neighbours((0,0), \"\", \"ihgpwlah\")]\n",
    "print('Part 1', find_path((0,0), \"mmsxrhfx\", return_first = True))\n",
    "print('Part 2', len(find_path((0,0), \"mmsxrhfx\", return_first = False)))"
   ]
  },
  {
   "cell_type": "code",
   "execution_count": null,
   "metadata": {},
   "outputs": [],
   "source": []
  }
 ],
 "metadata": {
  "interpreter": {
   "hash": "82ac49797f4e8ce2a5f66bfd8892a888c13cb1eb76434ab59b45c9d746585e95"
  },
  "kernelspec": {
   "display_name": "Python 3 (ipykernel)",
   "language": "python",
   "name": "python3"
  },
  "language_info": {
   "codemirror_mode": {
    "name": "ipython",
    "version": 3
   },
   "file_extension": ".py",
   "mimetype": "text/x-python",
   "name": "python",
   "nbconvert_exporter": "python",
   "pygments_lexer": "ipython3",
   "version": "3.9.7"
  }
 },
 "nbformat": 4,
 "nbformat_minor": 2
}
