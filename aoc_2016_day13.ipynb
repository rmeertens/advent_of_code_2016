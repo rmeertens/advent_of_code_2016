{
 "cells": [
  {
   "cell_type": "code",
   "execution_count": 1,
   "metadata": {},
   "outputs": [
    {
     "name": "stdout",
     "output_type": "stream",
     "text": [
      "##.######.\n",
      ".....##.#.\n",
      "###....###\n",
      "#.####.###\n",
      "........##\n",
      "#..##.#..#\n",
      "###.#.....\n",
      "..##.#####\n",
      ".#.##....#\n",
      ".##.#..#.#\n"
     ]
    }
   ],
   "source": [
    "import numpy as np\n",
    "import functools\n",
    "\n",
    "FAV_NUMBER = 1350\n",
    "\n",
    "@functools.lru_cache(maxsize=10000)\n",
    "def is_wall(x, y): \n",
    "    temp = x*x + 3*x + 2*x*y + y + y*y\n",
    "    temp += FAV_NUMBER\n",
    "    temp = [int(bit) for bit in bin(temp)[2:]]\n",
    "    \n",
    "#     print(temp)\n",
    "    if sum(temp) % 2 == 0: \n",
    "        return False\n",
    "    else: \n",
    "        return True\n",
    "\n",
    "for y in range(10):     \n",
    "    for x in range(10): \n",
    "        if is_wall(x,y): \n",
    "            print('#', end='')\n",
    "        else:\n",
    "            print('.', end='')\n",
    "    print()"
   ]
  },
  {
   "cell_type": "code",
   "execution_count": 2,
   "metadata": {},
   "outputs": [
    {
     "name": "stdout",
     "output_type": "stream",
     "text": [
      "Part 1 92\n"
     ]
    }
   ],
   "source": [
    "def neighbours(node): \n",
    "    x, y = node\n",
    "    for dx, dy in [(-1, 0), (1, 0), (0, -1), (0, 1)]: \n",
    "        nx, ny = x+dx, y+dy\n",
    "        if nx >= 0 and ny >= 0: \n",
    "            if not is_wall(nx, ny): \n",
    "                yield (nx, ny)\n",
    "            \n",
    "def steps_to_goal(init_pos, goal): \n",
    "    to_expand = [(0, init_pos)]\n",
    "    visited = set([init_pos])\n",
    "    \n",
    "    while to_expand: \n",
    "        steps, pos = to_expand.pop(0)\n",
    "        \n",
    "        if pos == goal: \n",
    "            return steps\n",
    "        \n",
    "        for node in neighbours(pos): \n",
    "            if node not in visited: \n",
    "                visited.add(node)\n",
    "                to_expand.append((steps+1, node))\n",
    "\n",
    "#steps_to_goal((1,1), (7,4))\n",
    "print(\"Part 1\", steps_to_goal((1,1), (31,39)))\n"
   ]
  },
  {
   "cell_type": "code",
   "execution_count": 3,
   "metadata": {},
   "outputs": [
    {
     "name": "stdout",
     "output_type": "stream",
     "text": [
      "Part 2 124\n"
     ]
    }
   ],
   "source": [
    "def reachable_locations(init_pos): \n",
    "    to_expand = [(0, init_pos)]\n",
    "    visited = set()\n",
    "    \n",
    "    while to_expand: \n",
    "        steps, pos = to_expand.pop(0)\n",
    "        \n",
    "        if steps >= 50: \n",
    "            continue\n",
    "        \n",
    "        for node in neighbours(pos): \n",
    "            if node not in visited: \n",
    "                visited.add(node)\n",
    "                to_expand.append((steps+1, node))\n",
    "    return len(visited)\n",
    "print(\"Part 2\", reachable_locations((1,1)))"
   ]
  },
  {
   "cell_type": "code",
   "execution_count": null,
   "metadata": {},
   "outputs": [],
   "source": []
  }
 ],
 "metadata": {
  "interpreter": {
   "hash": "82ac49797f4e8ce2a5f66bfd8892a888c13cb1eb76434ab59b45c9d746585e95"
  },
  "kernelspec": {
   "display_name": "Python 3 (ipykernel)",
   "language": "python",
   "name": "python3"
  },
  "language_info": {
   "codemirror_mode": {
    "name": "ipython",
    "version": 3
   },
   "file_extension": ".py",
   "mimetype": "text/x-python",
   "name": "python",
   "nbconvert_exporter": "python",
   "pygments_lexer": "ipython3",
   "version": "3.9.7"
  }
 },
 "nbformat": 4,
 "nbformat_minor": 2
}
