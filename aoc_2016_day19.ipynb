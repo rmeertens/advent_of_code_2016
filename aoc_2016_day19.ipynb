{
 "cells": [
  {
   "cell_type": "code",
   "execution_count": 13,
   "metadata": {},
   "outputs": [
    {
     "name": "stdout",
     "output_type": "stream",
     "text": [
      "Part 1 1834903(L:1834903)\n",
      "Part 2: 1420280(L:1420280)\n"
     ]
    }
   ],
   "source": [
    "class Elf:\n",
    "    def __init__(self, key, leftelf=None):\n",
    "        self.key = key\n",
    "        self.leftelf = leftelf\n",
    "        \n",
    "    def __repr__(self): \n",
    "        if self.leftelf: \n",
    "            return str(self.key) + \"(L:\" + str(self.leftelf.key) + \")\"\n",
    "        else: \n",
    "            return str(self.key) + \"(none left)\"\n",
    "def runsim(numelves): \n",
    "    elves = list()\n",
    "    for i in range(numelves): \n",
    "        a = Elf(key=i+1)\n",
    "        \n",
    "        if len(elves) > 0: \n",
    "            elves[-1].leftelf = a\n",
    "            \n",
    "        elves.append(a)\n",
    "    elves[-1].leftelf = elves[0]    \n",
    "    mainelf = elves[0]\n",
    "    \n",
    "    while mainelf.leftelf != mainelf: \n",
    "        mainelf.leftelf = mainelf.leftelf.leftelf\n",
    "        mainelf = mainelf.leftelf\n",
    "    print(\"Part 1\", mainelf)\n",
    "    \n",
    "runsim(3014603)\n",
    "      \n",
    "def runsim_part2(numelves): \n",
    "    elves = list()\n",
    "    for i in range(numelves): \n",
    "        a = Elf(key=i+1)\n",
    "        \n",
    "        if len(elves) > 0: \n",
    "            elves[-1].leftelf = a\n",
    "            \n",
    "        elves.append(a)\n",
    "    elves[-1].leftelf = elves[0]\n",
    "    \n",
    "    mainelf = elves[0]\n",
    "    remaining = numelves\n",
    "    \n",
    "    killing_elf = mainelf\n",
    "    for i in range(remaining//2-1):\n",
    "        killing_elf = killing_elf.leftelf\n",
    "\n",
    "    while mainelf.leftelf != mainelf: \n",
    "        killing_elf.leftelf = killing_elf.leftelf.leftelf\n",
    "        if remaining%2==1: \n",
    "            killing_elf = killing_elf.leftelf\n",
    "            \n",
    "        mainelf = mainelf.leftelf\n",
    "        remaining -= 1\n",
    "    print(\"Part 2:\", mainelf)      \n",
    "\n",
    "runsim_part2(3014603)"
   ]
  },
  {
   "cell_type": "code",
   "execution_count": null,
   "metadata": {},
   "outputs": [],
   "source": []
  },
  {
   "cell_type": "code",
   "execution_count": null,
   "metadata": {},
   "outputs": [],
   "source": []
  }
 ],
 "metadata": {
  "interpreter": {
   "hash": "82ac49797f4e8ce2a5f66bfd8892a888c13cb1eb76434ab59b45c9d746585e95"
  },
  "kernelspec": {
   "display_name": "Python 3 (ipykernel)",
   "language": "python",
   "name": "python3"
  },
  "language_info": {
   "codemirror_mode": {
    "name": "ipython",
    "version": 3
   },
   "file_extension": ".py",
   "mimetype": "text/x-python",
   "name": "python",
   "nbconvert_exporter": "python",
   "pygments_lexer": "ipython3",
   "version": "3.9.7"
  }
 },
 "nbformat": 4,
 "nbformat_minor": 2
}
