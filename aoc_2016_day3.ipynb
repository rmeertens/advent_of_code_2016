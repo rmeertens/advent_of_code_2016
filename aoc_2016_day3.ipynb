{
 "cells": [
  {
   "cell_type": "code",
   "execution_count": 1,
   "metadata": {},
   "outputs": [],
   "source": [
    "inputs = [inp.strip() for inp in open('inputs/day03.txt')]"
   ]
  },
  {
   "cell_type": "code",
   "execution_count": 4,
   "metadata": {},
   "outputs": [
    {
     "name": "stdout",
     "output_type": "stream",
     "text": [
      "Part 1 982\n"
     ]
    }
   ],
   "source": [
    "num_valid = 0\n",
    "\n",
    "for line in inputs: \n",
    "    a, b, c = [int(x) for x in line.split(\" \") if len(x) > 0]\n",
    "    if a+b > c and a+c > b and b + c > a: \n",
    "        num_valid += 1\n",
    "print(\"Part 1\", num_valid)"
   ]
  },
  {
   "cell_type": "code",
   "execution_count": 5,
   "metadata": {},
   "outputs": [
    {
     "name": "stdout",
     "output_type": "stream",
     "text": [
      "Part 2 1826\n"
     ]
    }
   ],
   "source": [
    "num_valid = 0\n",
    "for i in range(0, len(inputs), 3): \n",
    "    l1 =  [int(x) for x in inputs[i].split(\" \") if len(x) > 0]\n",
    "    l2 =  [int(x) for x in inputs[i+1].split(\" \") if len(x) > 0]\n",
    "    l3 =  [int(x) for x in inputs[i+2].split(\" \") if len(x) > 0]\n",
    "    \n",
    "    for j in range(3): \n",
    "        if l1[j] + l2[j] > l3[j] and l1[j] + l3[j] > l2[j] and l2[j] + l3[j] > l1[j]: \n",
    "            num_valid += 1\n",
    "print(\"Part 2\", num_valid)"
   ]
  },
  {
   "cell_type": "code",
   "execution_count": null,
   "metadata": {},
   "outputs": [],
   "source": []
  }
 ],
 "metadata": {
  "kernelspec": {
   "display_name": "Python 3 (ipykernel)",
   "language": "python",
   "name": "python3"
  },
  "language_info": {
   "codemirror_mode": {
    "name": "ipython",
    "version": 3
   },
   "file_extension": ".py",
   "mimetype": "text/x-python",
   "name": "python",
   "nbconvert_exporter": "python",
   "pygments_lexer": "ipython3",
   "version": "3.9.7"
  }
 },
 "nbformat": 4,
 "nbformat_minor": 4
}
