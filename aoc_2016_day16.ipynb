{
 "cells": [
  {
   "cell_type": "code",
   "execution_count": 1,
   "metadata": {},
   "outputs": [
    {
     "name": "stdout",
     "output_type": "stream",
     "text": [
      "Part 1 00100111000101111\n",
      "Part 2 11101110011100110\n"
     ]
    }
   ],
   "source": [
    "def modify(a): \n",
    "    # Call the data you have at this point \"a\".\n",
    "    b = a # Make a copy of \"a\"; call this copy \"b\".\n",
    "    b = b[::-1] # Reverse the order of the characters in \"b\".\n",
    "    b = \"\".join([\"0\" if char==\"1\" else \"1\" for char in b]) # In \"b\", replace all instances of 0 with 1 and all 1s with 0.\n",
    "    return a + \"0\" + b # The resulting data is \"a\", then a single 0, then \"b\".\n",
    "\n",
    "assert modify(\"0\") == '001'\n",
    "assert modify(\"1\") == '100'\n",
    "assert modify(\"11111\") == '11111000000'\n",
    "assert modify(\"111100001010\") == '1111000010100101011110000'\n",
    "\n",
    "def checksum(a): \n",
    "    sums = \"\"\n",
    "    for i in range(0, len(a), 2): \n",
    "        p1, p2 = a[i], a[i+1]\n",
    "        if p1 == p2: \n",
    "            sums += \"1\"\n",
    "        else: \n",
    "            sums += \"0\"\n",
    "    if len(sums)%2 == 0: \n",
    "        return checksum(sums)\n",
    "    else: \n",
    "        return sums\n",
    "assert checksum(\"110010110100\") == \"100\"\n",
    "assert checksum(\"10000011110010000111\") == \"01100\"\n",
    "\n",
    "def get_answer(len_disk):\n",
    "    inputs = \"01111010110010011\" \n",
    "    while len(inputs) < len_disk: \n",
    "        inputs = modify(inputs)\n",
    "\n",
    "    inputs = inputs[:len_disk]\n",
    "    return checksum(inputs)\n",
    "\n",
    "print(\"Part 1\", get_answer(272))\n",
    "print(\"Part 2\", get_answer(35651584))"
   ]
  },
  {
   "cell_type": "code",
   "execution_count": null,
   "metadata": {},
   "outputs": [],
   "source": []
  }
 ],
 "metadata": {
  "interpreter": {
   "hash": "82ac49797f4e8ce2a5f66bfd8892a888c13cb1eb76434ab59b45c9d746585e95"
  },
  "kernelspec": {
   "display_name": "Python 3 (ipykernel)",
   "language": "python",
   "name": "python3"
  },
  "language_info": {
   "codemirror_mode": {
    "name": "ipython",
    "version": 3
   },
   "file_extension": ".py",
   "mimetype": "text/x-python",
   "name": "python",
   "nbconvert_exporter": "python",
   "pygments_lexer": "ipython3",
   "version": "3.9.7"
  }
 },
 "nbformat": 4,
 "nbformat_minor": 2
}
