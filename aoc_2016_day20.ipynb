{
 "cells": [
  {
   "cell_type": "code",
   "execution_count": 1,
   "metadata": {},
   "outputs": [
    {
     "name": "stdout",
     "output_type": "stream",
     "text": [
      "Part 1 22887907\n",
      "Part 2 109\n"
     ]
    }
   ],
   "source": [
    "segments = list()\n",
    "for line in open('inputs/day20.txt'): \n",
    "    start, end = line.split('-')\n",
    "    segments.append((int(start), 's'))\n",
    "    segments.append((int(end), 'e'))    \n",
    "segments.sort()\n",
    "\n",
    "count_blocked = 0 \n",
    "last_open = 0 \n",
    "\n",
    "allowed = list()\n",
    "for val, meaning in segments: \n",
    "    if meaning == 's':\n",
    "        if count_blocked == 0: \n",
    "            if val - last_open >= 1: \n",
    "                for i in range(last_open, val): \n",
    "                    allowed.append(i)\n",
    "        count_blocked += 1\n",
    "    else: \n",
    "        count_blocked -= 1\n",
    "    if count_blocked == 0: \n",
    "        last_open = val+1\n",
    "\n",
    "print(\"Part 1\", allowed[0])\n",
    "print(\"Part 2\", len(allowed))        "
   ]
  },
  {
   "cell_type": "code",
   "execution_count": null,
   "metadata": {},
   "outputs": [],
   "source": []
  },
  {
   "cell_type": "code",
   "execution_count": null,
   "metadata": {},
   "outputs": [],
   "source": []
  },
  {
   "cell_type": "code",
   "execution_count": null,
   "metadata": {},
   "outputs": [],
   "source": []
  }
 ],
 "metadata": {
  "interpreter": {
   "hash": "82ac49797f4e8ce2a5f66bfd8892a888c13cb1eb76434ab59b45c9d746585e95"
  },
  "kernelspec": {
   "display_name": "Python 3 (ipykernel)",
   "language": "python",
   "name": "python3"
  },
  "language_info": {
   "codemirror_mode": {
    "name": "ipython",
    "version": 3
   },
   "file_extension": ".py",
   "mimetype": "text/x-python",
   "name": "python",
   "nbconvert_exporter": "python",
   "pygments_lexer": "ipython3",
   "version": "3.9.7"
  }
 },
 "nbformat": 4,
 "nbformat_minor": 2
}
