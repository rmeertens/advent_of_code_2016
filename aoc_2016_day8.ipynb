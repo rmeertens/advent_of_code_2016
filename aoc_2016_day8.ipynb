{
 "cells": [
  {
   "cell_type": "code",
   "execution_count": 1,
   "metadata": {},
   "outputs": [],
   "source": [
    "import numpy as np\n",
    " \n",
    "lines= open('inputs/day08.txt').readlines()\n"
   ]
  },
  {
   "cell_type": "code",
   "execution_count": 2,
   "metadata": {},
   "outputs": [
    {
     "name": "stdout",
     "output_type": "stream",
     "text": [
      "part 1 119.0\n"
     ]
    },
    {
     "data": {
      "text/plain": [
       "<matplotlib.image.AxesImage at 0x7fef068091c0>"
      ]
     },
     "execution_count": 2,
     "metadata": {},
     "output_type": "execute_result"
    },
    {
     "data": {
      "image/png": "[encoded data removed]",
      "text/plain": [
       "<Figure size 432x288 with 1 Axes>"
      ]
     },
     "metadata": {
      "needs_background": "light"
     },
     "output_type": "display_data"
    }
   ],
   "source": [
    "screen = np.zeros((6,50))\n",
    "\n",
    "for line in lines: \n",
    "    if line.startswith('rect'): \n",
    "        x,y = line.split(' ')[1].split('x')\n",
    "        screen[:int(y),:int(x)] = 1\n",
    "    elif line.startswith('rotate row'): \n",
    "        y = line.split(' ')[2].split('=')[1]\n",
    "        n = line.split(' ')[4]\n",
    "        screen[int(y),:] = np.roll(screen[int(y),:],int(n))\n",
    "    elif line.startswith('rotate column'): \n",
    "        x = line.split(' ')[2].split('=')[1]\n",
    "        n = line.split(' ')[4]\n",
    "        screen[:,int(x)] = np.roll(screen[:,int(x)],int(n))\n",
    "\n",
    "print('part 1', np.sum(screen))\n",
    "\n",
    "import matplotlib.pyplot as plt\n",
    "plt.imshow(screen)"
   ]
  },
  {
   "cell_type": "code",
   "execution_count": null,
   "metadata": {},
   "outputs": [],
   "source": []
  },
  {
   "cell_type": "code",
   "execution_count": null,
   "metadata": {},
   "outputs": [],
   "source": []
  }
 ],
 "metadata": {
  "interpreter": {
   "hash": "82ac49797f4e8ce2a5f66bfd8892a888c13cb1eb76434ab59b45c9d746585e95"
  },
  "kernelspec": {
   "display_name": "Python 3 (ipykernel)",
   "language": "python",
   "name": "python3"
  },
  "language_info": {
   "codemirror_mode": {
    "name": "ipython",
    "version": 3
   },
   "file_extension": ".py",
   "mimetype": "text/x-python",
   "name": "python",
   "nbconvert_exporter": "python",
   "pygments_lexer": "ipython3",
   "version": "3.9.7"
  }
 },
 "nbformat": 4,
 "nbformat_minor": 2
}
