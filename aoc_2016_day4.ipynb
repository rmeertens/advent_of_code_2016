{
 "cells": [
  {
   "cell_type": "code",
   "execution_count": 1,
   "metadata": {},
   "outputs": [
    {
     "name": "stdout",
     "output_type": "stream",
     "text": [
      "part 1 173787\n"
     ]
    }
   ],
   "source": [
    "# Note: I tried openAI codex for this day, which generally worked really well! But this explains the long comments and long code. \n",
    "\n",
    "from collections import Counter\n",
    "\n",
    "# open input_4.txt\n",
    "lines = open('inputs/day04.txt').readlines()\n",
    "lines = [line.strip() for line in lines]\n",
    "sum_sector_ids = 0\n",
    "\n",
    "for line in lines: \n",
    "    start, key = line.split('[')\n",
    "    key = key[:-1]\n",
    "\n",
    "    # remove dashes from the start\n",
    "    start = start.replace('-', '')\n",
    "\n",
    "    # get the letters in the start and not the numbers\n",
    "    start_letters = [char for char in start if char.isalpha()]\n",
    "\n",
    "    # get the numbers in the start and not the letters\n",
    "    start_numbers = int(''.join([char for char in start if char.isnumeric()]))\n",
    "\n",
    "    count = Counter(start_letters)\n",
    "    \n",
    "    # get the letters in the counter sorted most frequent to least frequent, same occurence broken by alphabetical occurence\n",
    "    sorted_letters = sorted(count.items(), key=lambda x: (-x[1], x[0]))\n",
    "    \n",
    "    if ''.join([x[0] for x in sorted_letters[:5]]) == key:\n",
    "        sum_sector_ids += start_numbers\n",
    "        \n",
    "print('part 1', sum_sector_ids)\n",
    "\n",
    "\n"
   ]
  },
  {
   "cell_type": "code",
   "execution_count": 2,
   "metadata": {},
   "outputs": [
    {
     "name": "stdout",
     "output_type": "stream",
     "text": [
      "part 2: 548\n"
     ]
    }
   ],
   "source": [
    "def get_real_name(input_line):\n",
    "    start, key = input_line.split('[')\n",
    "    key = key[:-1]\n",
    "\n",
    "    # get the numbers in the start and not the letters\n",
    "    start_numbers = int(''.join([char for char in start if char.isnumeric()]))\n",
    "\n",
    "    # rotate each letter start_numbers times \n",
    "    start_letters = [chr((ord(char) - ord('a') + start_numbers) % 26 + ord('a')) if char.isalpha() else ' ' for char in start ]\n",
    "\n",
    "    # print(''.join(start_letters), start_numbers)\n",
    "    if ''.join(start_letters).startswith('northpole object storage'): \n",
    "        print(\"part 2:\", start_numbers)\n",
    "\n",
    "for line in lines: \n",
    "    get_real_name(line)"
   ]
  },
  {
   "cell_type": "code",
   "execution_count": null,
   "metadata": {},
   "outputs": [],
   "source": []
  }
 ],
 "metadata": {
  "interpreter": {
   "hash": "82ac49797f4e8ce2a5f66bfd8892a888c13cb1eb76434ab59b45c9d746585e95"
  },
  "kernelspec": {
   "display_name": "Python 3 (ipykernel)",
   "language": "python",
   "name": "python3"
  },
  "language_info": {
   "codemirror_mode": {
    "name": "ipython",
    "version": 3
   },
   "file_extension": ".py",
   "mimetype": "text/x-python",
   "name": "python",
   "nbconvert_exporter": "python",
   "pygments_lexer": "ipython3",
   "version": "3.9.7"
  }
 },
 "nbformat": 4,
 "nbformat_minor": 2
}
