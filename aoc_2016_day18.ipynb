{
 "cells": [
  {
   "cell_type": "code",
   "execution_count": 1,
   "metadata": {},
   "outputs": [
    {
     "name": "stdout",
     "output_type": "stream",
     "text": [
      "Part 1 1989\n",
      "Part 2 19999894\n"
     ]
    }
   ],
   "source": [
    "from collections import defaultdict\n",
    "\n",
    "def next_row(row): \n",
    "    next_row = \"\"\n",
    "    \n",
    "    row_dict = defaultdict(lambda: '.')\n",
    "    for i in range(len(row)): \n",
    "        row_dict[i] = row[i]\n",
    "    \n",
    "    for i in range(len(row)): \n",
    "        if row_dict[i-1] == '^' and row_dict[i] == '^' and row_dict[i+1] == \".\":\n",
    "            next_row += '^'\n",
    "        elif row_dict[i-1] == '.' and row_dict[i] == '^' and row_dict[i+1] == \"^\":\n",
    "            next_row += '^'\n",
    "        elif row_dict[i-1] == '^' and row_dict[i] == '.' and row_dict[i+1] == \".\":\n",
    "            next_row += '^'\n",
    "        elif row_dict[i-1] == '.' and row_dict[i] == '.' and row_dict[i+1] == \"^\":\n",
    "            next_row += '^'\n",
    "        else: \n",
    "            next_row += '.'\n",
    "    return next_row\n",
    "\n",
    "assert next_row(\"..^^.\") == '.^^^^'\n",
    "assert next_row(\".^^^^\") == '^^..^'\n",
    "\n",
    "all_rows = ['.^^^^^.^^.^^^.^...^..^^.^.^..^^^^^^^^^^..^...^^.^..^^^^..^^^^...^.^.^^^^^^^^....^..^^^^^^.^^^.^^^.^^']\n",
    "while len(all_rows) < 40: \n",
    "    all_rows.append(next_row(all_rows[-1]))\n",
    "\n",
    "count_safe = 0\n",
    "for row in all_rows: \n",
    "    count_safe += row.count('.')\n",
    "print('Part 1', count_safe)\n",
    "\n",
    "while len(all_rows) < 400000: \n",
    "    all_rows.append(next_row(all_rows[-1]))\n",
    "    \n",
    "count_safe = 0\n",
    "for row in all_rows: \n",
    "    count_safe += row.count('.')\n",
    "print('Part 2', count_safe)"
   ]
  },
  {
   "cell_type": "code",
   "execution_count": 2,
   "metadata": {},
   "outputs": [
    {
     "data": {
      "text/plain": [
       "19999894"
      ]
     },
     "execution_count": 2,
     "metadata": {},
     "output_type": "execute_result"
    }
   ],
   "source": [
    "count_safe"
   ]
  },
  {
   "cell_type": "code",
   "execution_count": null,
   "metadata": {},
   "outputs": [],
   "source": []
  }
 ],
 "metadata": {
  "interpreter": {
   "hash": "82ac49797f4e8ce2a5f66bfd8892a888c13cb1eb76434ab59b45c9d746585e95"
  },
  "kernelspec": {
   "display_name": "Python 3 (ipykernel)",
   "language": "python",
   "name": "python3"
  },
  "language_info": {
   "codemirror_mode": {
    "name": "ipython",
    "version": 3
   },
   "file_extension": ".py",
   "mimetype": "text/x-python",
   "name": "python",
   "nbconvert_exporter": "python",
   "pygments_lexer": "ipython3",
   "version": "3.9.7"
  }
 },
 "nbformat": 4,
 "nbformat_minor": 2
}
