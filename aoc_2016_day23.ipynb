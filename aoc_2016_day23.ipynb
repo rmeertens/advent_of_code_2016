{
 "cells": [
  {
   "cell_type": "code",
   "execution_count": 1,
   "metadata": {
    "scrolled": true
   },
   "outputs": [],
   "source": [
    "import numpy as np\n",
    "from collections import defaultdict\n",
    "\n",
    "lines= open('inputs/day23.txt').readlines()\n",
    "lines = [line.strip() for line in lines]\n",
    "\n",
    "index = 0 \n",
    "registers = defaultdict(int)\n",
    "\n",
    "registers['a'] = 7\n",
    "index = 0\n",
    "\n",
    "\n",
    "while index < len(lines): \n",
    "    command, *arguments = lines[index].split(' ')\n",
    "\n",
    "    if command == 'tgl': \n",
    "        try: \n",
    "            a = int(arguments[0])\n",
    "            changeindex = index + a\n",
    "        except: \n",
    "            changeindex = index + registers[arguments[0]]\n",
    "        \n",
    "        if changeindex >= len(lines): \n",
    "            pass\n",
    "        elif 'inc' in lines[changeindex]: \n",
    "            lines[changeindex] = lines[changeindex].replace('inc', 'dec')\n",
    "        elif 'dec' in lines[changeindex]: \n",
    "            lines[changeindex] = lines[changeindex].replace('dec', 'inc')\n",
    "        elif 'tgl' in lines[changeindex]: \n",
    "            lines[changeindex] = lines[changeindex].replace('tgl', 'inc')\n",
    "\n",
    "        # two arguments\n",
    "        elif 'jnz' in lines[changeindex]: \n",
    "            lines[changeindex] = lines[changeindex].replace('jnz', 'cpy')\n",
    "        elif 'cpy' in lines[changeindex]: \n",
    "            lines[changeindex] = lines[changeindex].replace('cpy', 'jnz')\n",
    "        else: \n",
    "            print(\"WTF\", lines[changeindex])\n",
    "\n",
    "    if command == \"cpy\": \n",
    "        a, b = arguments\n",
    "        try: \n",
    "            a = int(a)\n",
    "            registers[b] = a\n",
    "        except: \n",
    "            registers[b] = registers[a]\n",
    "            \n",
    "    if command == \"inc\": \n",
    "        a = arguments[0]\n",
    "        registers[a] += 1\n",
    "    if command == \"dec\": \n",
    "        a = arguments[0]\n",
    "        registers[a] -= 1\n",
    "    if command == \"jnz\": \n",
    "        a, b = arguments\n",
    "        try: \n",
    "            a = int(a)\n",
    "        except: \n",
    "            a = registers[a]\n",
    "            \n",
    "        try:\n",
    "            b = int(b)\n",
    "        except: \n",
    "            b = registers[b]\n",
    "        \n",
    "        if a != 0: \n",
    "            index += b -1\n",
    "        \n",
    "    index += 1"
   ]
  },
  {
   "cell_type": "code",
   "execution_count": 2,
   "metadata": {},
   "outputs": [
    {
     "name": "stdout",
     "output_type": "stream",
     "text": [
      "Part 1 13050\n"
     ]
    }
   ],
   "source": [
    "print(\"Part 1\", registers['a'])"
   ]
  },
  {
   "cell_type": "code",
   "execution_count": 3,
   "metadata": {},
   "outputs": [
    {
     "name": "stdout",
     "output_type": "stream",
     "text": [
      "Part 2 479009610\n"
     ]
    }
   ],
   "source": [
    "# Note: I saw that the program first calculates the faculty of num eggs, and then adds a constant\n",
    "# I thus only need to compute the faculty and determine the constant. \n",
    "# We can get the constant from part 1 by removing 7! and adding 12!\n",
    "print(\"Part 2\", 12*11*10*9*8*7*6*5*4*3*2 + (registers['a'] - 7*6*5*4*3*2))"
   ]
  }
 ],
 "metadata": {
  "interpreter": {
   "hash": "82ac49797f4e8ce2a5f66bfd8892a888c13cb1eb76434ab59b45c9d746585e95"
  },
  "kernelspec": {
   "display_name": "Python 3 (ipykernel)",
   "language": "python",
   "name": "python3"
  },
  "language_info": {
   "codemirror_mode": {
    "name": "ipython",
    "version": 3
   },
   "file_extension": ".py",
   "mimetype": "text/x-python",
   "name": "python",
   "nbconvert_exporter": "python",
   "pygments_lexer": "ipython3",
   "version": "3.9.7"
  }
 },
 "nbformat": 4,
 "nbformat_minor": 2
}
