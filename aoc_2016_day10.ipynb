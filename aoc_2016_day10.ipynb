{
 "cells": [
  {
   "cell_type": "code",
   "execution_count": null,
   "metadata": {},
   "outputs": [],
   "source": [
    "from collections import defaultdict\n",
    "import re\n",
    "\n",
    "bots = defaultdict(set)\n",
    "outputs = defaultdict(set)\n",
    "\n",
    "lines = [line.strip() for line in open('inputs/day10.txt')]\n",
    "found = False\n",
    "while True: \n",
    "    for line in lines: \n",
    "        ints = [int(x) for x in re.findall(r'\\d+', line)]\n",
    "        if \"goes to\" in line: \n",
    "            bots[ints[1]].add(ints[0])\n",
    "        else: \n",
    "            botnum, lowout, highout = ints\n",
    "            dirs = [word for word in line.split(\" \") if word in [\"bot\", \"output\"]]\n",
    "            if len(bots[botnum]) == 2: \n",
    "                low, high = sorted(list(bots[botnum]))\n",
    "                \n",
    "                if dirs[1] == \"bot\":\n",
    "                    bots[lowout].add(low)\n",
    "                else:\n",
    "                    outputs[lowout].add(low)\n",
    "                    \n",
    "                if dirs[2] == \"bot\":\n",
    "                    bots[highout].add(high)\n",
    "                else:\n",
    "                    outputs[highout].add(high)\n",
    "                \n",
    "    if not found: \n",
    "        for botkey in bots: \n",
    "            if 61 in bots[botkey] and 17 in bots[botkey]: \n",
    "                print(\"Part 1\", botkey)\n",
    "                found = True\n",
    "    has_output = len(outputs[0]) and len(outputs[1]) and len(outputs[2])\n",
    "    \n",
    "    if has_output and found: \n",
    "        break\n",
    "print(\"Part 2\", list(outputs[0])[0]*list(outputs[1])[0]*list(outputs[2])[0])"
   ]
  }
 ],
 "metadata": {
  "kernelspec": {
   "display_name": "Python 3 (ipykernel)",
   "language": "python",
   "name": "python3"
  },
  "language_info": {
   "codemirror_mode": {
    "name": "ipython",
    "version": 3
   },
   "file_extension": ".py",
   "mimetype": "text/x-python",
   "name": "python",
   "nbconvert_exporter": "python",
   "pygments_lexer": "ipython3",
   "version": "3.9.7"
  }
 },
 "nbformat": 4,
 "nbformat_minor": 4
}
