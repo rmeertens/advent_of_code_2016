{
 "cells": [
  {
   "cell_type": "code",
   "execution_count": 3,
   "metadata": {},
   "outputs": [
    {
     "name": "stdout",
     "output_type": "stream",
     "text": [
      "Part 1 118\n",
      "True\n",
      "False\n",
      "False\n",
      "True\n"
     ]
    }
   ],
   "source": [
    "# --- Day 7: Internet Protocol Version 7 ---\n",
    "# read lines\n",
    "lines = [line.strip() for line in open('inputs/day07.txt').readlines()]\n",
    "\n",
    "supported = 0\n",
    "\n",
    "def is_tls(line): \n",
    "    line = line.replace('[', ']').split(']')\n",
    "\n",
    "    abba_in_brackets = False\n",
    "    abba_outside_brackets = False\n",
    "\n",
    "    for index_part, part in enumerate(line):\n",
    "        # check if part is a palindrome\n",
    "        for index in range(len(part)-3): \n",
    "            subpart = part[index:index+4]\n",
    "            if subpart == subpart[::-1] and len(set(subpart)) > 1: \n",
    "                if index_part%2 == 0:\n",
    "                    abba_outside_brackets = True\n",
    "                else:\n",
    "                    abba_in_brackets = True\n",
    "    # print(abba_outside_brackets, abba_in_brackets)\n",
    "    return abba_outside_brackets and not abba_in_brackets\n",
    "    \n",
    "for line in lines: \n",
    "   if is_tls(line):\n",
    "       supported += 1\n",
    "print('Part 1', supported)\n",
    "\n",
    "print(is_tls('abba[mnop]qrst'))\n",
    "print(is_tls('abcd[bddb]xyyx'))\n",
    "print(is_tls('aaaa[qwer]tyui'))\n",
    "print(is_tls('ioxxoj[asdfgh]zxcvbn'))"
   ]
  },
  {
   "cell_type": "code",
   "execution_count": 4,
   "metadata": {},
   "outputs": [
    {
     "name": "stdout",
     "output_type": "stream",
     "text": [
      "part 2 260\n",
      "True\n",
      "False\n",
      "True\n",
      "True\n"
     ]
    }
   ],
   "source": [
    "def is_ssl(line): \n",
    "    line = line.replace('[', ']').split(']')\n",
    "\n",
    "    in_brackets = list()\n",
    "    outside_brackets = list()\n",
    "\n",
    "    \n",
    "    for index_part, part in enumerate(line):\n",
    "        if index_part%2 == 0:\n",
    "            outside_brackets.append(part)\n",
    "        else:\n",
    "            in_brackets.append(part)\n",
    "    \n",
    "    # print(outside_brackets, in_brackets)\n",
    "    for outside_part in outside_brackets:\n",
    "        for index in range(len(outside_part)-2):\n",
    "            subpart = outside_part[index:index+3]\n",
    "            if subpart == subpart[::-1] and len(set(subpart)) > 1: \n",
    "                bab = subpart[1] + subpart[0] + subpart[1]\n",
    "                for inside_part in in_brackets:\n",
    "                    if bab in inside_part:\n",
    "                        return True\n",
    "    return False\n",
    "\n",
    "supported = 0 \n",
    "for line in lines: \n",
    "    if is_ssl(line):\n",
    "         supported += 1\n",
    "\n",
    "print('part 2', supported)\n",
    "print(is_ssl('aba[bab]xyz'))\n",
    "print(is_ssl('xyx[xyx]xyx'))\n",
    "print(is_ssl('aaa[kek]eke'))\n",
    "print(is_ssl('zazbz[bzb]cdb'))\n",
    "\n"
   ]
  },
  {
   "cell_type": "code",
   "execution_count": 19,
   "metadata": {},
   "outputs": [
    {
     "data": {
      "text/plain": [
       "260"
      ]
     },
     "execution_count": 19,
     "metadata": {},
     "output_type": "execute_result"
    }
   ],
   "source": [
    "supported"
   ]
  },
  {
   "cell_type": "code",
   "execution_count": null,
   "metadata": {},
   "outputs": [],
   "source": []
  }
 ],
 "metadata": {
  "interpreter": {
   "hash": "82ac49797f4e8ce2a5f66bfd8892a888c13cb1eb76434ab59b45c9d746585e95"
  },
  "kernelspec": {
   "display_name": "Python 3 (ipykernel)",
   "language": "python",
   "name": "python3"
  },
  "language_info": {
   "codemirror_mode": {
    "name": "ipython",
    "version": 3
   },
   "file_extension": ".py",
   "mimetype": "text/x-python",
   "name": "python",
   "nbconvert_exporter": "python",
   "pygments_lexer": "ipython3",
   "version": "3.9.7"
  }
 },
 "nbformat": 4,
 "nbformat_minor": 2
}
