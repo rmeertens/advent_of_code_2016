{
 "cells": [
  {
   "cell_type": "code",
   "execution_count": 1,
   "metadata": {},
   "outputs": [
    {
     "name": "stdout",
     "output_type": "stream",
     "text": [
      "part 1 1a3099aa\n",
      "part 2 694190cd\n"
     ]
    }
   ],
   "source": [
    "import hashlib\n",
    "puzzle_input = \"uqwqemis\"\n",
    "\n",
    "def get_password_for_door_id(door_id): \n",
    "    password = \"\"\n",
    "    index = 0\n",
    "    while len(password) < 8:\n",
    "        hash_ = door_id + str(index)\n",
    "        hash_ = hashlib.md5(hash_.encode('utf-8')).hexdigest()\n",
    "        if hash_.startswith(\"00000\"):\n",
    "            password += hash_[5]\n",
    "        index += 1\n",
    "    return password\n",
    "print('part 1', get_password_for_door_id(puzzle_input))\n",
    "\n",
    "def get_password_for_door_id_part2(door_id): \n",
    "    password = [\"_\"] * 8\n",
    "    index = 0\n",
    "    while \"_\" in password:\n",
    "        hash_ = door_id + str(index)\n",
    "        hash_ = hashlib.md5(hash_.encode('utf-8')).hexdigest()\n",
    "        if hash_.startswith(\"00000\"):\n",
    "            try:\n",
    "                if password[int(hash_[5])] == \"_\":\n",
    "                    password[int(hash_[5])] = hash_[6]\n",
    "            except IndexError:\n",
    "                pass\n",
    "            except ValueError:\n",
    "                pass\n",
    "\n",
    "        index += 1\n",
    "    return \"\".join(password)\n",
    "print('part 2', get_password_for_door_id_part2(puzzle_input))"
   ]
  },
  {
   "cell_type": "code",
   "execution_count": null,
   "metadata": {},
   "outputs": [],
   "source": []
  }
 ],
 "metadata": {
  "interpreter": {
   "hash": "82ac49797f4e8ce2a5f66bfd8892a888c13cb1eb76434ab59b45c9d746585e95"
  },
  "kernelspec": {
   "display_name": "Python 3 (ipykernel)",
   "language": "python",
   "name": "python3"
  },
  "language_info": {
   "codemirror_mode": {
    "name": "ipython",
    "version": 3
   },
   "file_extension": ".py",
   "mimetype": "text/x-python",
   "name": "python",
   "nbconvert_exporter": "python",
   "pygments_lexer": "ipython3",
   "version": "3.9.7"
  }
 },
 "nbformat": 4,
 "nbformat_minor": 2
}
