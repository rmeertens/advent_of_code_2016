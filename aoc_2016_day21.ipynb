{
 "cells": [
  {
   "cell_type": "code",
   "execution_count": 1,
   "metadata": {},
   "outputs": [],
   "source": [
    "def swap_pos(string, x, y): \n",
    "    s = [letter for letter in string]\n",
    "    s[x],s[y] = s[y], s[x]\n",
    "    return ''.join(s)\n",
    "\n",
    "def swap_letter(string, x, y): \n",
    "    xpos = string.index(x)\n",
    "    ypos = string.index(y)\n",
    "    return swap_pos(string, xpos, ypos)\n",
    "\n",
    "def rotate_left(string, x): \n",
    "    return  string[x:] + string[:x]\n",
    "\n",
    "def rotate_right(string, x): \n",
    "    return string[-x:] + string[:-x] \n",
    "\n",
    "def rotate_based_on(string, x): \n",
    "    index_x = string.index(x)\n",
    "    \n",
    "    if index_x >= 4: \n",
    "        temp = rotate_right(string, 1)\n",
    "        for i in range(index_x): \n",
    "            temp = rotate_right(temp, 1)\n",
    "        temp = rotate_right(temp, 1)\n",
    "        return temp\n",
    "    else: \n",
    "        temp = rotate_right(string, 1)\n",
    "        return rotate_right(temp, index_x)\n",
    "\n",
    "def reverse_positions(string, x, y): \n",
    "    return string[:x] + string[x:y+1][::-1] + string[y+1:]\n",
    "\n",
    "def move_position(string, x, y): \n",
    "    char = string[x]\n",
    "    string = string[:x] + string[x+1:]\n",
    "    string = string[:y] + char + string[y:]\n",
    "    return string\n",
    "\n",
    "assert rotate_right(\"abcd\", 1) == \"dabc\"\n",
    "assert rotate_left(\"abcd\", 1) == \"bcda\"\n",
    "assert rotate_based_on(\"abdec\", \"b\") == \"ecabd\"\n",
    "assert rotate_based_on(\"ecabd\", \"d\") == \"decab\"\n",
    "assert reverse_positions(\"abcde\", 0, 4) == 'edcba'\n",
    "assert reverse_positions(\"abcde\", 1, 2) == \"acbde\"\n",
    "assert move_position(\"bdeac\", 3, 0) == \"abdec\"\n",
    "assert move_position(\"bcdea\", 1, 4) == \"bdeac\""
   ]
  },
  {
   "cell_type": "code",
   "execution_count": 2,
   "metadata": {},
   "outputs": [
    {
     "name": "stdout",
     "output_type": "stream",
     "text": [
      "Part 1 gbhafcde\n"
     ]
    }
   ],
   "source": [
    "import re\n",
    "\n",
    "def permute(string): \n",
    "    for line in open('inputs/day21.txt'): \n",
    "        integers = re.findall(r\"\\d\", line)\n",
    "        integers = [int(x) for x in integers]\n",
    "\n",
    "        if line.startswith('swap position'): \n",
    "            string = swap_pos(string, *integers)\n",
    "        elif line.startswith('swap letter'): \n",
    "            splitted = line.strip().split(\" \")\n",
    "            string = swap_letter(string, splitted[2], splitted[-1])\n",
    "        elif line.startswith('rotate left'):\n",
    "            string = rotate_left(string, integers[0])\n",
    "        elif line.startswith('rotate right'):\n",
    "            string = rotate_right(string, integers[0])\n",
    "        elif line.startswith(\"rotate based on\"): \n",
    "            splitted = line.strip().split(\" \")\n",
    "            string = rotate_based_on(string, splitted[-1])\n",
    "        elif line.startswith(\"reverse\"): \n",
    "            string = reverse_positions(string, *integers)\n",
    "        elif line.startswith(\"move\"): \n",
    "            string = move_position(string, *integers)\n",
    "\n",
    "        assert sorted(string) == [letter for letter in \"abcdefgh\"]\n",
    "    return string\n",
    "print(\"Part 1\", permute(\"abcdefgh\"))"
   ]
  },
  {
   "cell_type": "code",
   "execution_count": null,
   "metadata": {},
   "outputs": [
    {
     "name": "stdout",
     "output_type": "stream",
     "text": [
      "Part 2 bcfaegdh\n"
     ]
    }
   ],
   "source": [
    "import itertools\n",
    "\n",
    "scrambled = \"fbgdceah\"\n",
    "for a in itertools.permutations([letter for letter in scrambled]): \n",
    "    if permute(''.join(a)) == scrambled: \n",
    "        print('Part 2', ''.join(a))\n",
    "\n"
   ]
  },
  {
   "cell_type": "code",
   "execution_count": null,
   "metadata": {},
   "outputs": [],
   "source": [
    "\n"
   ]
  },
  {
   "cell_type": "code",
   "execution_count": null,
   "metadata": {},
   "outputs": [],
   "source": []
  }
 ],
 "metadata": {
  "interpreter": {
   "hash": "82ac49797f4e8ce2a5f66bfd8892a888c13cb1eb76434ab59b45c9d746585e95"
  },
  "kernelspec": {
   "display_name": "Python 3 (ipykernel)",
   "language": "python",
   "name": "python3"
  },
  "language_info": {
   "codemirror_mode": {
    "name": "ipython",
    "version": 3
   },
   "file_extension": ".py",
   "mimetype": "text/x-python",
   "name": "python",
   "nbconvert_exporter": "python",
   "pygments_lexer": "ipython3",
   "version": "3.9.7"
  }
 },
 "nbformat": 4,
 "nbformat_minor": 2
}
