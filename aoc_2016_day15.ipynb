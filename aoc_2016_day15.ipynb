{
 "cells": [
  {
   "cell_type": "code",
   "execution_count": 1,
   "metadata": {},
   "outputs": [],
   "source": [
    "import re\n",
    "lines = [line.strip() for line in open('inputs/day15.txt')]"
   ]
  },
  {
   "cell_type": "code",
   "execution_count": 3,
   "metadata": {},
   "outputs": [
    {
     "name": "stdout",
     "output_type": "stream",
     "text": [
      "part 1 376777\n"
     ]
    }
   ],
   "source": [
    "part2 = False\n",
    "\n",
    "discs = list()\n",
    "for line in lines: \n",
    "    numbers = re.findall(r'\\d+', line)\n",
    "    discs.append((int(numbers[1]), int(numbers[3])))\n",
    "    \n",
    "if part2: \n",
    "    discs.append((11, 0))\n",
    "timestep = 0 \n",
    "while True: \n",
    "    passes = True\n",
    "    for time_add, (num_slots, startcount) in enumerate(discs): \n",
    "        if (timestep + startcount + time_add+1)%num_slots != 0: \n",
    "            passes = False\n",
    "            break\n",
    "    if passes: \n",
    "        break\n",
    "    timestep += 1\n",
    "    \n",
    "if not part2: \n",
    "    print('part 1', timestep)\n",
    "else: \n",
    "    print('part 2', timestep)\n",
    "\n",
    "            "
   ]
  },
  {
   "cell_type": "code",
   "execution_count": null,
   "metadata": {},
   "outputs": [],
   "source": []
  }
 ],
 "metadata": {
  "interpreter": {
   "hash": "82ac49797f4e8ce2a5f66bfd8892a888c13cb1eb76434ab59b45c9d746585e95"
  },
  "kernelspec": {
   "display_name": "Python 3 (ipykernel)",
   "language": "python",
   "name": "python3"
  },
  "language_info": {
   "codemirror_mode": {
    "name": "ipython",
    "version": 3
   },
   "file_extension": ".py",
   "mimetype": "text/x-python",
   "name": "python",
   "nbconvert_exporter": "python",
   "pygments_lexer": "ipython3",
   "version": "3.9.7"
  }
 },
 "nbformat": 4,
 "nbformat_minor": 2
}
