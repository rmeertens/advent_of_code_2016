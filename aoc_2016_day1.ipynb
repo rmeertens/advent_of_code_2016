{
 "cells": [
  {
   "cell_type": "code",
   "execution_count": 1,
   "metadata": {},
   "outputs": [
    {
     "name": "stdout",
     "output_type": "stream",
     "text": [
      "Part 2 182\n",
      "Part 1 236\n"
     ]
    }
   ],
   "source": [
    "inputs = [line.strip().split(\", \") for line in open('Downloads/2016_input_day01.txt')][0]\n",
    "\n",
    "location = (0,0)\n",
    "\n",
    "directions = [(1,0), (0, 1), (-1, 0), (0, -1)]\n",
    "dir_index = 0\n",
    "\n",
    "visited = set()\n",
    "found_double = False\n",
    "\n",
    "for command in inputs: \n",
    "    turn, distance = command[0], int(command[1:])\n",
    "    \n",
    "    if turn == 'R': \n",
    "        dir_index += 1\n",
    "    else: \n",
    "        dir_index -= 1\n",
    "    \n",
    "    dir_index %= len(directions)\n",
    "    \n",
    "    for i in range(distance): \n",
    "        location = (location[0] + directions[dir_index][0], location[1] + directions[dir_index][1])\n",
    "    \n",
    "        if location in visited and not found_double: \n",
    "            print(\"Part 2\", abs(location[0])+abs(location[1]))\n",
    "            found_double = True\n",
    "        visited.add(location)\n",
    "print(\"Part 1\", abs(location[0])+abs(location[1]))"
   ]
  }
 ],
 "metadata": {
  "kernelspec": {
   "display_name": "Python 3",
   "language": "python",
   "name": "python3"
  },
  "language_info": {
   "codemirror_mode": {
    "name": "ipython",
    "version": 3
   },
   "file_extension": ".py",
   "mimetype": "text/x-python",
   "name": "python",
   "nbconvert_exporter": "python",
   "pygments_lexer": "ipython3",
   "version": "3.8.5"
  }
 },
 "nbformat": 4,
 "nbformat_minor": 4
}
