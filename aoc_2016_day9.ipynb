{
 "cells": [
  {
   "cell_type": "code",
   "execution_count": 30,
   "metadata": {},
   "outputs": [
    {
     "name": "stdout",
     "output_type": "stream",
     "text": [
      "Part 1 74532\n"
     ]
    }
   ],
   "source": [
    "def decompress(in_str): \n",
    "    decompressed = \"\"\n",
    "    while len(in_str) > 0: \n",
    "        nextopen = in_str.find('(')\n",
    " \n",
    "        if nextopen == -1: \n",
    "            decompressed += in_str\n",
    "            break\n",
    "        else: \n",
    "            decompressed += in_str[:nextopen]\n",
    "            nextclose = in_str.find(')')   \n",
    "            toparse = in_str[nextopen+1:nextclose]\n",
    "            in_str = in_str[nextclose+1:]\n",
    "            \n",
    "            subseq, rep = [int(x) for x in toparse.split('x')]\n",
    "            for _ in range(rep): \n",
    "                decompressed += in_str[:subseq]\n",
    "            in_str = in_str[subseq:]\n",
    "            \n",
    "    return decompressed\n",
    "assert decompress(\"ADVENT\") == \"ADVENT\"\n",
    "assert decompress(\"A(1x5)BC\") == \"ABBBBBC\"\n",
    "assert decompress(\"(3x3)XYZ\") == \"XYZXYZXYZ\"\n",
    "assert decompress(\"A(2x2)BCD(2x2)EFG\") == \"ABCBCDEFEFG\"\n",
    "assert decompress(\"X(8x2)(3x3)ABCY\") == \"X(3x3)ABC(3x3)ABCY\"\n",
    "\n",
    "line = open('inputs/day09.txt').readline().strip()\n",
    "unfolded = decompress(line)\n",
    "print(\"Part 1\", len(unfolded))"
   ]
  },
  {
   "cell_type": "code",
   "execution_count": 37,
   "metadata": {},
   "outputs": [
    {
     "name": "stdout",
     "output_type": "stream",
     "text": [
      "Part 2 11558231665\n"
     ]
    }
   ],
   "source": [
    "import functools\n",
    "\n",
    "@functools.lru_cache(maxsize=10000)\n",
    "def decompress(in_str): \n",
    "    decompressed = \"\"\n",
    "    while len(in_str) > 0: \n",
    "        nextopen = in_str.find('(')\n",
    " \n",
    "        if nextopen == -1: \n",
    "            decompressed += in_str\n",
    "            break\n",
    "        else: \n",
    "            decompressed += in_str[:nextopen]\n",
    "            nextclose = in_str.find(')')   \n",
    "            toparse = in_str[nextopen+1:nextclose]\n",
    "            in_str = in_str[nextclose+1:]\n",
    "            \n",
    "            subseq, rep = [int(x) for x in toparse.split('x')]\n",
    "            for _ in range(rep): \n",
    "                decompressed += decompress(in_str[:subseq])\n",
    "            in_str = in_str[subseq:]\n",
    "            \n",
    "    return decompressed\n",
    "\n",
    "assert decompress(\"ADVENT\") == \"ADVENT\"\n",
    "assert decompress(\"(3x3)XYZ\") == \"XYZXYZXYZ\"\n",
    "assert decompress(\"X(8x2)(3x3)ABCY\") == \"XABCABCABCABCABCABCY\"\n",
    "assert decompress(\"(27x12)(20x12)(13x14)(7x10)(1x12)A\") == \"A\"*241920\n",
    "assert len(decompress(\"(25x3)(3x3)ABC(2x3)XY(5x2)PQRSTX(18x9)(3x2)TWO(5x7)SEVEN\"))==445\n",
    "\n",
    "line = open('inputs/day09.txt').readline().strip()\n",
    "unfolded = decompress(line)\n",
    "print(\"Part 2\", len(unfolded))"
   ]
  }
 ],
 "metadata": {
  "interpreter": {
   "hash": "82ac49797f4e8ce2a5f66bfd8892a888c13cb1eb76434ab59b45c9d746585e95"
  },
  "kernelspec": {
   "display_name": "Python 3 (ipykernel)",
   "language": "python",
   "name": "python3"
  },
  "language_info": {
   "codemirror_mode": {
    "name": "ipython",
    "version": 3
   },
   "file_extension": ".py",
   "mimetype": "text/x-python",
   "name": "python",
   "nbconvert_exporter": "python",
   "pygments_lexer": "ipython3",
   "version": "3.9.7"
  }
 },
 "nbformat": 4,
 "nbformat_minor": 2
}
