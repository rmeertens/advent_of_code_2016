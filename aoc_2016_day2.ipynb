{
 "cells": [
  {
   "cell_type": "code",
   "execution_count": 3,
   "metadata": {},
   "outputs": [],
   "source": []
  },
  {
   "cell_type": "code",
   "execution_count": 1,
   "metadata": {},
   "outputs": [
    {
     "name": "stdout",
     "output_type": "stream",
     "text": [
      "part 1 65556\n",
      "part 2 cb779\n"
     ]
    }
   ],
   "source": [
    "inputs = [inp.strip() for inp in open('inputs/day02.txt')]\n",
    "\n",
    "keyboard = ['123', '456', '789']\n",
    "\n",
    "deltas = {\n",
    "    'R': (0, 1), \n",
    "    'L': (0, -1), \n",
    "    'U': (-1, 0), \n",
    "    'D': (1, 0), \n",
    "}\n",
    "\n",
    "def get_position(keyboard, line): \n",
    "    pos = (1,1)\n",
    "    \n",
    "    for command in line: \n",
    "        delta = deltas[command]\n",
    "        newpos = (pos[0] + delta[0], pos[1] + delta[1])\n",
    "        \n",
    "        if 0 <= newpos[0] < len(keyboard) and 0 <= newpos[1] < len(keyboard[0]) and keyboard[newpos[0]][newpos[1]] != '.': \n",
    "            pos = newpos\n",
    "    return keyboard[pos[0]][pos[1]]\n",
    "\n",
    "passcode = ''\n",
    "for line in inputs: \n",
    "    pos = get_position(keyboard, line)\n",
    "    passcode += pos\n",
    "    \n",
    "print(\"part 1\", passcode)\n",
    "\n",
    "keyboard = ['..1..', '.234.', '56789', '.abc.', '..d..']\n",
    "passcode = ''    \n",
    "for line in inputs: \n",
    "    pos = get_position(keyboard, line)\n",
    "    passcode += pos\n",
    "    \n",
    "print(\"part 2\", passcode)"
   ]
  },
  {
   "cell_type": "code",
   "execution_count": null,
   "metadata": {},
   "outputs": [],
   "source": []
  }
 ],
 "metadata": {
  "kernelspec": {
   "display_name": "Python 3 (ipykernel)",
   "language": "python",
   "name": "python3"
  },
  "language_info": {
   "codemirror_mode": {
    "name": "ipython",
    "version": 3
   },
   "file_extension": ".py",
   "mimetype": "text/x-python",
   "name": "python",
   "nbconvert_exporter": "python",
   "pygments_lexer": "ipython3",
   "version": "3.9.7"
  }
 },
 "nbformat": 4,
 "nbformat_minor": 4
}
