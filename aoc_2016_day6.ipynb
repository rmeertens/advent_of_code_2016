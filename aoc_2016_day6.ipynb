{
 "cells": [
  {
   "cell_type": "code",
   "execution_count": 1,
   "metadata": {},
   "outputs": [
    {
     "name": "stdout",
     "output_type": "stream",
     "text": [
      "part 1 kjxfwkdh\n"
     ]
    }
   ],
   "source": [
    "# advent of code 2016 day 6\n",
    "\n",
    "# again done using openAI Codex\n",
    "\n",
    "# get the most common letter in each column\n",
    "\n",
    "lines = [line.strip() for line in open('inputs/day06.txt', 'r')]\n",
    "\n",
    "\n",
    "most_common = list()\n",
    "\n",
    "for index in range(len(lines[0])):\n",
    "    column = [line[index] for line in lines]\n",
    "    most_common.append(max(set(column), key=column.count))\n",
    "\n",
    "print( 'part 1', ''.join(most_common))\n"
   ]
  },
  {
   "cell_type": "code",
   "execution_count": 2,
   "metadata": {},
   "outputs": [
    {
     "name": "stdout",
     "output_type": "stream",
     "text": [
      "part 2 xrwcsnps\n"
     ]
    }
   ],
   "source": [
    "\n",
    "least_common = list()\n",
    "\n",
    "for index in range(len(lines[0])):\n",
    "    column = [line[index] for line in lines]\n",
    "    least_common.append(min(set(column), key=column.count))\n",
    "\n",
    "print( 'part 2', ''.join(least_common))"
   ]
  },
  {
   "cell_type": "code",
   "execution_count": null,
   "metadata": {},
   "outputs": [],
   "source": []
  },
  {
   "cell_type": "code",
   "execution_count": null,
   "metadata": {},
   "outputs": [],
   "source": []
  }
 ],
 "metadata": {
  "interpreter": {
   "hash": "82ac49797f4e8ce2a5f66bfd8892a888c13cb1eb76434ab59b45c9d746585e95"
  },
  "kernelspec": {
   "display_name": "Python 3 (ipykernel)",
   "language": "python",
   "name": "python3"
  },
  "language_info": {
   "codemirror_mode": {
    "name": "ipython",
    "version": 3
   },
   "file_extension": ".py",
   "mimetype": "text/x-python",
   "name": "python",
   "nbconvert_exporter": "python",
   "pygments_lexer": "ipython3",
   "version": "3.9.7"
  }
 },
 "nbformat": 4,
 "nbformat_minor": 2
}
