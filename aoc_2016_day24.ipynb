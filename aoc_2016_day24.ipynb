{
 "cells": [
  {
   "cell_type": "code",
   "execution_count": 1,
   "metadata": {},
   "outputs": [],
   "source": [
    "lines = [line.strip() for line in open('inputs/day24.txt')]"
   ]
  },
  {
   "cell_type": "code",
   "execution_count": 4,
   "metadata": {},
   "outputs": [],
   "source": [
    "from collections import defaultdict\n",
    "maze = defaultdict(lambda: '#')\n",
    "goal_positions = dict()\n",
    "for y, line in enumerate(lines):\n",
    "    for x, char in enumerate(line): \n",
    "        if char in \"0123456789\":\n",
    "            maze[(x,y)] = '.'\n",
    "            goal_positions[char] = (x,y)\n",
    "        else: \n",
    "            maze[(x,y)] = char"
   ]
  },
  {
   "cell_type": "code",
   "execution_count": 13,
   "metadata": {},
   "outputs": [],
   "source": [
    "import heapq\n",
    "def heuristic(p1, p2): \n",
    "    return abs(p1[0]-p2[0]) + abs(p1[1]-p2[1])\n",
    "\n",
    "def reachable(position): \n",
    "    x,y = position\n",
    "    for dx, dy in [(-1, 0), (1,0), (0,-1), (0,1)]:\n",
    "        nx, ny = x+dx, y+dy\n",
    "        if maze[(nx,ny)] == '.': \n",
    "            yield (nx,ny)\n",
    "            \n",
    "            \n",
    "def find_path(start_pos, goal_pos): \n",
    "    expand_heap = list()\n",
    "    heapq.heappush(expand_heap, (0+heuristic(start_pos, goal_pos), 0, start_pos))\n",
    "    visited = defaultdict(lambda: 9999999999)\n",
    "    \n",
    "    while expand_heap: \n",
    "        _, steps_so_far, position = heapq.heappop(expand_heap)\n",
    "        if position == goal_pos: \n",
    "            return steps_so_far\n",
    "        \n",
    "        for newpos in reachable(position): \n",
    "            newsteps = steps_so_far + 1\n",
    "            \n",
    "            if newsteps < visited[newpos]: \n",
    "                visited[newpos] = newsteps\n",
    "                new_heuristic = heuristic(newpos, goal_pos)\n",
    "                heapq.heappush(expand_heap, (newsteps+new_heuristic, newsteps, newpos))\n",
    "    return -1\n",
    "\n",
    "saved_dist = dict()\n",
    "for key1 in goal_positions: \n",
    "    for key2 in goal_positions: \n",
    "        saved_dist[(key1, key2)] = find_path(goal_positions[key1], goal_positions[key2])\n"
   ]
  },
  {
   "cell_type": "code",
   "execution_count": 27,
   "metadata": {},
   "outputs": [
    {
     "name": "stdout",
     "output_type": "stream",
     "text": [
      "Part 1 464\n",
      "Part 2 652\n"
     ]
    }
   ],
   "source": [
    "import itertools\n",
    "\n",
    "to_visit = list(goal_positions.keys())\n",
    "to_visit.remove('0')\n",
    "\n",
    "shortest = 9999999999999\n",
    "for permutation in itertools.permutations(to_visit): \n",
    "    sequence = '0' + ''.join(permutation)\n",
    "    \n",
    "    score = 0\n",
    "    for i in range(len(sequence)-1): \n",
    "        score += saved_dist[(sequence[i], sequence[i+1])]\n",
    "    shortest = min(shortest, score)\n",
    "\n",
    "print(\"Part 1\", shortest)\n",
    "\n",
    "shortest = 9999999999999\n",
    "for permutation in itertools.permutations(to_visit): \n",
    "    sequence = '0' + ''.join(permutation) + '0'\n",
    "    \n",
    "    score = 0\n",
    "    for i in range(len(sequence)-1): \n",
    "        score += saved_dist[(sequence[i], sequence[i+1])]\n",
    "    shortest = min(shortest, score)\n",
    "\n",
    "print(\"Part 2\", shortest)\n"
   ]
  },
  {
   "cell_type": "code",
   "execution_count": 26,
   "metadata": {},
   "outputs": [
    {
     "data": {
      "text/plain": [
       "464"
      ]
     },
     "execution_count": 26,
     "metadata": {},
     "output_type": "execute_result"
    }
   ],
   "source": [
    "shortest"
   ]
  },
  {
   "cell_type": "code",
   "execution_count": null,
   "metadata": {},
   "outputs": [],
   "source": []
  },
  {
   "cell_type": "code",
   "execution_count": null,
   "metadata": {},
   "outputs": [],
   "source": []
  },
  {
   "cell_type": "code",
   "execution_count": null,
   "metadata": {
    "scrolled": true
   },
   "outputs": [],
   "source": []
  },
  {
   "cell_type": "code",
   "execution_count": null,
   "metadata": {},
   "outputs": [],
   "source": []
  }
 ],
 "metadata": {
  "interpreter": {
   "hash": "82ac49797f4e8ce2a5f66bfd8892a888c13cb1eb76434ab59b45c9d746585e95"
  },
  "kernelspec": {
   "display_name": "Python 3 (ipykernel)",
   "language": "python",
   "name": "python3"
  },
  "language_info": {
   "codemirror_mode": {
    "name": "ipython",
    "version": 3
   },
   "file_extension": ".py",
   "mimetype": "text/x-python",
   "name": "python",
   "nbconvert_exporter": "python",
   "pygments_lexer": "ipython3",
   "version": "3.9.7"
  }
 },
 "nbformat": 4,
 "nbformat_minor": 2
}
