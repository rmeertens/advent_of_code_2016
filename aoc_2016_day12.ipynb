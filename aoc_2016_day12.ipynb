{
 "cells": [
  {
   "cell_type": "code",
   "execution_count": 1,
   "metadata": {},
   "outputs": [],
   "source": [
    "import numpy as np\n",
    " \n",
    "lines= open('inputs/day12.txt').readlines()\n",
    "lines = [line.strip() for line in lines]"
   ]
  },
  {
   "cell_type": "code",
   "execution_count": 4,
   "metadata": {},
   "outputs": [],
   "source": [
    "from collections import defaultdict\n",
    "\n",
    "index = 0 \n",
    "registers = defaultdict(int)\n",
    "registers['c'] = 1\n",
    "\n",
    "while index < len(lines): \n",
    "    command, *arguments = lines[index].split(' ')\n",
    "    \n",
    "    if command == \"cpy\": \n",
    "        a, b = arguments\n",
    "        try: \n",
    "            a = int(a)\n",
    "            registers[b] = a\n",
    "        except: \n",
    "            registers[b] = registers[a]\n",
    "            \n",
    "    if command == \"inc\": \n",
    "        a = arguments[0]\n",
    "        registers[a] += 1\n",
    "    if command == \"dec\": \n",
    "        a = arguments[0]\n",
    "        registers[a] -= 1\n",
    "    if command == \"jnz\": \n",
    "        a, b = arguments\n",
    "        try: \n",
    "            a = int(a)\n",
    "        except: \n",
    "            a = registers[a]\n",
    "            \n",
    "        b = int(b)\n",
    "        \n",
    "        if a != 0: \n",
    "            index += b -1\n",
    "        \n",
    "    index += 1"
   ]
  },
  {
   "cell_type": "code",
   "execution_count": 5,
   "metadata": {},
   "outputs": [
    {
     "data": {
      "text/plain": [
       "defaultdict(int, {'c': 0, 'a': 9227674, 'b': 5702887, 'd': 0})"
      ]
     },
     "execution_count": 5,
     "metadata": {},
     "output_type": "execute_result"
    }
   ],
   "source": [
    "registers"
   ]
  },
  {
   "cell_type": "code",
   "execution_count": null,
   "metadata": {},
   "outputs": [],
   "source": []
  }
 ],
 "metadata": {
  "interpreter": {
   "hash": "82ac49797f4e8ce2a5f66bfd8892a888c13cb1eb76434ab59b45c9d746585e95"
  },
  "kernelspec": {
   "display_name": "Python 3 (ipykernel)",
   "language": "python",
   "name": "python3"
  },
  "language_info": {
   "codemirror_mode": {
    "name": "ipython",
    "version": 3
   },
   "file_extension": ".py",
   "mimetype": "text/x-python",
   "name": "python",
   "nbconvert_exporter": "python",
   "pygments_lexer": "ipython3",
   "version": "3.9.7"
  }
 },
 "nbformat": 4,
 "nbformat_minor": 2
}
